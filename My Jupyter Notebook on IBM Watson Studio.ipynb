{
 "cells": [
  {
   "cell_type": "markdown",
   "metadata": {
    "collapsed": true
   },
   "source": [
    "# My Jupyter Notebook on IBM Watson Studio"
   ]
  },
  {
   "cell_type": "markdown",
   "metadata": {},
   "source": [
    "<b> Tobias Oliva Pinto\n",
    "\n",
    "Industrial engineer"
   ]
  },
  {
   "cell_type": "markdown",
   "metadata": {},
   "source": [
    "*I´m interested in data science bescause i think information in one of the most valuable assets organizations have and one of the main function of data scientist is to obtain it.*"
   ]
  },
  {
   "cell_type": "markdown",
   "metadata": {},
   "source": [
    "### In the next cell we will see a simple adition of two positive integers."
   ]
  },
  {
   "cell_type": "code",
   "execution_count": 1,
   "metadata": {},
   "outputs": [
    {
     "data": {
      "text/plain": [
       "9"
      ]
     },
     "execution_count": 1,
     "metadata": {},
     "output_type": "execute_result"
    }
   ],
   "source": [
    "5+4"
   ]
  },
  {
   "cell_type": "markdown",
   "metadata": {},
   "source": [
    "Bullet-list\n",
    "* Cell 1 \n",
    "    * Markdown\n",
    "* Cell 2\n",
    "    * Markdown\n",
    "* Cell 3\n",
    "    * Markdown\n",
    "    \n",
    "Numbered-list\n",
    "1. Cell 1\n",
    "    1. Title\n",
    "2. Cell 2\n",
    "    1. Name\n",
    "    2. Ocupation\n",
    "3. Cell 3\n",
    "    1. Interest in data science \n",
    "    \n",
    "Table\n",
    "\n",
    "|Cell numer| |Type| |Designation| \n",
    "|---| |---| |---|\n",
    "|1| |Markdown| |Title|\n",
    "|2| |Markdown| |Name, ocupation|\n",
    "|3| |Markdown| |Interest in data science|"
   ]
  },
  {
   "cell_type": "code",
   "execution_count": null,
   "metadata": {},
   "outputs": [],
   "source": []
  }
 ],
 "metadata": {
  "kernelspec": {
   "display_name": "Python 3.9",
   "language": "python",
   "name": "python3"
  },
  "language_info": {
   "codemirror_mode": {
    "name": "ipython",
    "version": 3
   },
   "file_extension": ".py",
   "mimetype": "text/x-python",
   "name": "python",
   "nbconvert_exporter": "python",
   "pygments_lexer": "ipython3",
   "version": "3.9.12"
  }
 },
 "nbformat": 4,
 "nbformat_minor": 1
}
